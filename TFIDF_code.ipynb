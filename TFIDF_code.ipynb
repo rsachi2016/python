{
 "cells": [
  {
   "cell_type": "code",
   "execution_count": 7,
   "metadata": {},
   "outputs": [
    {
     "name": "stdout",
     "output_type": "stream",
     "text": [
      "  (0, 1)\t0.5\n",
      "  (0, 3)\t0.5\n",
      "  (0, 0)\t0.5\n",
      "  (0, 2)\t0.5\n"
     ]
    }
   ],
   "source": [
    "from sklearn.feature_extraction.text import TfidfVectorizer\n",
    "\n",
    "subject = 'What is your name?'\n",
    "\n",
    "tfidf = TfidfVectorizer()\n",
    "xtfidf=tfidf.fit_transform([subject])\n",
    "print(xtfidf)\n"
   ]
  },
  {
   "cell_type": "code",
   "execution_count": 44,
   "metadata": {},
   "outputs": [
    {
     "name": "stdout",
     "output_type": "stream",
     "text": [
      "Term Frequency {'utilities,': 0.03333333333333333, 'the': 0.03333333333333333, 'banking,': 0.03333333333333333, 'operations': 0.03333333333333333, 'insurance,': 0.03333333333333333, 'EXL': 0.06666666666666667, 'transportation': 0.03333333333333333, 'is': 0.03333333333333333, 'in': 0.03333333333333333, 'company': 0.03333333333333333, 'analytics.': 0.03333333333333333, 'services.': 0.03333333333333333, 'involved': 0.03333333333333333, 'management': 0.03333333333333333, 'logistics': 0.03333333333333333, 'services,': 0.03333333333333333, 'an': 0.03333333333333333, 'services': 0.03333333333333333, 'financial': 0.03333333333333333, 'offers': 0.03333333333333333, 'American': 0.03333333333333333, 'Service': 0.03333333333333333, 'mainly': 0.03333333333333333, 'travel,': 0.03333333333333333, 'healthcare,': 0.03333333333333333, 'professional': 0.03333333333333333, 'multinational': 0.03333333333333333, 'and': 0.06666666666666667}\n",
      "======================================================================================================\n",
      "Inverse Frequency {'utilities,': 1.4471580313422192, 'the': 1.4471580313422192, 'banking,': 1.4471580313422192, 'operations': 1.4471580313422192, 'insurance,': 1.4471580313422192, 'EXL': 1.4471580313422192, 'transportation': 1.4471580313422192, 'is': 1.4471580313422192, 'in': 1.4471580313422192, 'company': 1.4471580313422192, 'analytics.': 1.4471580313422192, 'services.': 1.4471580313422192, 'involved': 1.4471580313422192, 'management': 1.4471580313422192, 'logistics': 1.4471580313422192, 'services,': 1.4471580313422192, 'an': 1.4471580313422192, 'services': 1.4471580313422192, 'financial': 1.4471580313422192, 'offers': 1.4471580313422192, 'American': 1.4471580313422192, 'Service': 1.4471580313422192, 'mainly': 1.4471580313422192, 'travel,': 1.4471580313422192, 'healthcare,': 1.4471580313422192, 'professional': 1.4471580313422192, 'multinational': 1.4471580313422192, 'and': 1.4471580313422192}\n"
     ]
    }
   ],
   "source": [
    "# find the term frequency\n",
    "import math\n",
    "\n",
    "corpus = 'EXL Service is an American multinational professional services company mainly involved in the operations management and analytics. EXL offers insurance, banking, financial services, utilities, healthcare, travel, transportation and logistics services.'\n",
    "\n",
    "corpus = corpus.split(' ')\n",
    "sentence = set(corpus)\n",
    "dictionary = dict.fromkeys(sentence, 0) \n",
    "\n",
    "for word in corpus:\n",
    "    dictionary[word]+=1\n",
    "\n",
    "# tf\n",
    "term_frequency = {}\n",
    "inverse_frequency = {}\n",
    "corpusCount = len(corpus)\n",
    "for word, count in dictionary.items():\n",
    "    term_frequency[word] = count/float(corpusCount)\n",
    "\n",
    "print(\"Term Frequency\",term_frequency)\n",
    "\n",
    "## Apply idf\n",
    "\n",
    "N = len(dictionary)\n",
    "inverse_frequency = dict.fromkeys(dictionary.keys(), 0)\n",
    "for word, val in inverse_frequency.items():\n",
    "    inverse_frequency[word] = math.log10(N / (float(val) + 1))\n",
    "    \n",
    "print(\"======================================================================================================\")\n",
    "print(\"Inverse Frequency\",inverse_frequency)"
   ]
  },
  {
   "cell_type": "code",
   "execution_count": null,
   "metadata": {},
   "outputs": [],
   "source": [
    "## Term frequency \n",
    "\n",
    "tf(t,d) = count of t in d / number of words in d"
   ]
  }
 ],
 "metadata": {
  "kernelspec": {
   "display_name": "Python 3",
   "language": "python",
   "name": "python3"
  },
  "language_info": {
   "codemirror_mode": {
    "name": "ipython",
    "version": 3
   },
   "file_extension": ".py",
   "mimetype": "text/x-python",
   "name": "python",
   "nbconvert_exporter": "python",
   "pygments_lexer": "ipython3",
   "version": "3.7.4"
  }
 },
 "nbformat": 4,
 "nbformat_minor": 2
}
